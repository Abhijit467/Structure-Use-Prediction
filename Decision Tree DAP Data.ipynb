{
 "cells": [
  {
   "cell_type": "code",
   "execution_count": 73,
   "id": "4d589004",
   "metadata": {},
   "outputs": [],
   "source": [
    "#Importing Required Libraries\n",
    "\n",
    "import pandas as pd \n",
    "import numpy as np\n",
    "import sklearn\n",
    "import sklearn.tree as tree\n",
    "from sklearn.tree import DecisionTreeClassifier\n",
    "from sklearn.model_selection import train_test_split\n",
    "from sklearn.metrics import accuracy_score\n",
    "from sklearn.preprocessing import LabelEncoder"
   ]
  },
  {
   "cell_type": "code",
   "execution_count": 74,
   "id": "553d055d",
   "metadata": {},
   "outputs": [
    {
     "data": {
      "text/html": [
       "<div>\n",
       "<style scoped>\n",
       "    .dataframe tbody tr th:only-of-type {\n",
       "        vertical-align: middle;\n",
       "    }\n",
       "\n",
       "    .dataframe tbody tr th {\n",
       "        vertical-align: top;\n",
       "    }\n",
       "\n",
       "    .dataframe thead th {\n",
       "        text-align: right;\n",
       "    }\n",
       "</style>\n",
       "<table border=\"1\" class=\"dataframe\">\n",
       "  <thead>\n",
       "    <tr style=\"text-align: right;\">\n",
       "      <th></th>\n",
       "      <th>STRUCTURE TYPE</th>\n",
       "      <th>FLOOR</th>\n",
       "      <th>BASEMENT</th>\n",
       "      <th>DEWLLING UNIT</th>\n",
       "      <th>STRUCUTRE AGE</th>\n",
       "      <th>STRUCTURE</th>\n",
       "    </tr>\n",
       "  </thead>\n",
       "  <tbody>\n",
       "    <tr>\n",
       "      <th>0</th>\n",
       "      <td>Pucca</td>\n",
       "      <td>5</td>\n",
       "      <td></td>\n",
       "      <td>15</td>\n",
       "      <td>11-20</td>\n",
       "      <td>Mixed Use</td>\n",
       "    </tr>\n",
       "    <tr>\n",
       "      <th>1</th>\n",
       "      <td>Pucca</td>\n",
       "      <td>5</td>\n",
       "      <td></td>\n",
       "      <td>10</td>\n",
       "      <td>11-20</td>\n",
       "      <td>Mixed Use</td>\n",
       "    </tr>\n",
       "    <tr>\n",
       "      <th>2</th>\n",
       "      <td>Semi-Pucca</td>\n",
       "      <td>1</td>\n",
       "      <td></td>\n",
       "      <td>3</td>\n",
       "      <td>11-20</td>\n",
       "      <td>Residential</td>\n",
       "    </tr>\n",
       "    <tr>\n",
       "      <th>3</th>\n",
       "      <td>Pucca</td>\n",
       "      <td>5</td>\n",
       "      <td></td>\n",
       "      <td>10</td>\n",
       "      <td>11-20</td>\n",
       "      <td>Residential</td>\n",
       "    </tr>\n",
       "    <tr>\n",
       "      <th>4</th>\n",
       "      <td>Pucca</td>\n",
       "      <td>4</td>\n",
       "      <td></td>\n",
       "      <td>8</td>\n",
       "      <td>11-20</td>\n",
       "      <td>Residential</td>\n",
       "    </tr>\n",
       "  </tbody>\n",
       "</table>\n",
       "</div>"
      ],
      "text/plain": [
       "  STRUCTURE TYPE  FLOOR BASEMENT DEWLLING UNIT STRUCUTRE AGE   STRUCTURE \n",
       "0          Pucca      5                     15         11-20    Mixed Use\n",
       "1          Pucca      5                     10         11-20    Mixed Use\n",
       "2     Semi-Pucca      1                      3         11-20  Residential\n",
       "3          Pucca      5                     10         11-20  Residential\n",
       "4          Pucca      4                      8         11-20  Residential"
      ]
     },
     "execution_count": 74,
     "metadata": {},
     "output_type": "execute_result"
    }
   ],
   "source": [
    "#Importing and Pre-processing Data\n",
    "\n",
    "df = pd.read_csv(\"E:\\Python Practice\\Land use prediction\\DAP.csv\")\n",
    "df.head()"
   ]
  },
  {
   "cell_type": "code",
   "execution_count": 75,
   "id": "4e3f9f34",
   "metadata": {},
   "outputs": [],
   "source": [
    "inputs = df.drop(\"STRUCTURE \", axis=\"columns\")\n",
    "target = df[\"STRUCTURE \"]"
   ]
  },
  {
   "cell_type": "code",
   "execution_count": 76,
   "id": "b4bea34e",
   "metadata": {},
   "outputs": [],
   "source": [
    "le_structure_type = LabelEncoder()\n",
    "le_floor = LabelEncoder()\n",
    "le_basement = LabelEncoder()\n",
    "le_dwelling_unit = LabelEncoder()\n",
    "le_structure_age = LabelEncoder()"
   ]
  },
  {
   "cell_type": "code",
   "execution_count": 77,
   "id": "b4020e7e",
   "metadata": {},
   "outputs": [
    {
     "data": {
      "text/html": [
       "<div>\n",
       "<style scoped>\n",
       "    .dataframe tbody tr th:only-of-type {\n",
       "        vertical-align: middle;\n",
       "    }\n",
       "\n",
       "    .dataframe tbody tr th {\n",
       "        vertical-align: top;\n",
       "    }\n",
       "\n",
       "    .dataframe thead th {\n",
       "        text-align: right;\n",
       "    }\n",
       "</style>\n",
       "<table border=\"1\" class=\"dataframe\">\n",
       "  <thead>\n",
       "    <tr style=\"text-align: right;\">\n",
       "      <th></th>\n",
       "      <th>STRUCTURE TYPE</th>\n",
       "      <th>FLOOR</th>\n",
       "      <th>BASEMENT</th>\n",
       "      <th>DEWLLING UNIT</th>\n",
       "      <th>STRUCUTRE AGE</th>\n",
       "      <th>structure_type</th>\n",
       "      <th>floor</th>\n",
       "      <th>basement</th>\n",
       "      <th>dwelling_unit</th>\n",
       "      <th>structure_age</th>\n",
       "    </tr>\n",
       "  </thead>\n",
       "  <tbody>\n",
       "    <tr>\n",
       "      <th>0</th>\n",
       "      <td>Pucca</td>\n",
       "      <td>5</td>\n",
       "      <td></td>\n",
       "      <td>15</td>\n",
       "      <td>11-20</td>\n",
       "      <td>1</td>\n",
       "      <td>4</td>\n",
       "      <td>0</td>\n",
       "      <td>6</td>\n",
       "      <td>2</td>\n",
       "    </tr>\n",
       "    <tr>\n",
       "      <th>1</th>\n",
       "      <td>Pucca</td>\n",
       "      <td>5</td>\n",
       "      <td></td>\n",
       "      <td>10</td>\n",
       "      <td>11-20</td>\n",
       "      <td>1</td>\n",
       "      <td>4</td>\n",
       "      <td>0</td>\n",
       "      <td>2</td>\n",
       "      <td>2</td>\n",
       "    </tr>\n",
       "    <tr>\n",
       "      <th>2</th>\n",
       "      <td>Semi-Pucca</td>\n",
       "      <td>1</td>\n",
       "      <td></td>\n",
       "      <td>3</td>\n",
       "      <td>11-20</td>\n",
       "      <td>2</td>\n",
       "      <td>0</td>\n",
       "      <td>0</td>\n",
       "      <td>19</td>\n",
       "      <td>2</td>\n",
       "    </tr>\n",
       "    <tr>\n",
       "      <th>3</th>\n",
       "      <td>Pucca</td>\n",
       "      <td>5</td>\n",
       "      <td></td>\n",
       "      <td>10</td>\n",
       "      <td>11-20</td>\n",
       "      <td>1</td>\n",
       "      <td>4</td>\n",
       "      <td>0</td>\n",
       "      <td>2</td>\n",
       "      <td>2</td>\n",
       "    </tr>\n",
       "    <tr>\n",
       "      <th>4</th>\n",
       "      <td>Pucca</td>\n",
       "      <td>4</td>\n",
       "      <td></td>\n",
       "      <td>8</td>\n",
       "      <td>11-20</td>\n",
       "      <td>1</td>\n",
       "      <td>3</td>\n",
       "      <td>0</td>\n",
       "      <td>44</td>\n",
       "      <td>2</td>\n",
       "    </tr>\n",
       "  </tbody>\n",
       "</table>\n",
       "</div>"
      ],
      "text/plain": [
       "  STRUCTURE TYPE  FLOOR BASEMENT DEWLLING UNIT STRUCUTRE AGE  structure_type  \\\n",
       "0          Pucca      5                     15         11-20               1   \n",
       "1          Pucca      5                     10         11-20               1   \n",
       "2     Semi-Pucca      1                      3         11-20               2   \n",
       "3          Pucca      5                     10         11-20               1   \n",
       "4          Pucca      4                      8         11-20               1   \n",
       "\n",
       "   floor  basement  dwelling_unit  structure_age  \n",
       "0      4         0              6              2  \n",
       "1      4         0              2              2  \n",
       "2      0         0             19              2  \n",
       "3      4         0              2              2  \n",
       "4      3         0             44              2  "
      ]
     },
     "execution_count": 77,
     "metadata": {},
     "output_type": "execute_result"
    }
   ],
   "source": [
    "inputs[\"structure_type\"] = le_structure_type.fit_transform(inputs[\"STRUCTURE TYPE\"])\n",
    "inputs[\"floor\"] = le_floor.fit_transform(inputs[\"FLOOR\"])\n",
    "inputs[\"basement\"] = le_basement.fit_transform(inputs[\"BASEMENT\"])\n",
    "inputs[\"dwelling_unit\"] = le_dwelling_unit.fit_transform(inputs[\"DEWLLING UNIT\"])\n",
    "inputs[\"structure_age\"] = le_structure_age.fit_transform(inputs[\"STRUCUTRE AGE\"])\n",
    "inputs.head()"
   ]
  },
  {
   "cell_type": "code",
   "execution_count": 78,
   "id": "3d12241a",
   "metadata": {},
   "outputs": [
    {
     "data": {
      "text/html": [
       "<div>\n",
       "<style scoped>\n",
       "    .dataframe tbody tr th:only-of-type {\n",
       "        vertical-align: middle;\n",
       "    }\n",
       "\n",
       "    .dataframe tbody tr th {\n",
       "        vertical-align: top;\n",
       "    }\n",
       "\n",
       "    .dataframe thead th {\n",
       "        text-align: right;\n",
       "    }\n",
       "</style>\n",
       "<table border=\"1\" class=\"dataframe\">\n",
       "  <thead>\n",
       "    <tr style=\"text-align: right;\">\n",
       "      <th></th>\n",
       "      <th>structure_type</th>\n",
       "      <th>floor</th>\n",
       "      <th>basement</th>\n",
       "      <th>dwelling_unit</th>\n",
       "      <th>structure_age</th>\n",
       "    </tr>\n",
       "  </thead>\n",
       "  <tbody>\n",
       "    <tr>\n",
       "      <th>50178</th>\n",
       "      <td>0</td>\n",
       "      <td>0</td>\n",
       "      <td>0</td>\n",
       "      <td>1</td>\n",
       "      <td>2</td>\n",
       "    </tr>\n",
       "    <tr>\n",
       "      <th>50179</th>\n",
       "      <td>0</td>\n",
       "      <td>0</td>\n",
       "      <td>0</td>\n",
       "      <td>1</td>\n",
       "      <td>2</td>\n",
       "    </tr>\n",
       "    <tr>\n",
       "      <th>50180</th>\n",
       "      <td>0</td>\n",
       "      <td>0</td>\n",
       "      <td>0</td>\n",
       "      <td>1</td>\n",
       "      <td>2</td>\n",
       "    </tr>\n",
       "    <tr>\n",
       "      <th>50181</th>\n",
       "      <td>0</td>\n",
       "      <td>0</td>\n",
       "      <td>0</td>\n",
       "      <td>1</td>\n",
       "      <td>2</td>\n",
       "    </tr>\n",
       "    <tr>\n",
       "      <th>50182</th>\n",
       "      <td>0</td>\n",
       "      <td>0</td>\n",
       "      <td>0</td>\n",
       "      <td>1</td>\n",
       "      <td>2</td>\n",
       "    </tr>\n",
       "  </tbody>\n",
       "</table>\n",
       "</div>"
      ],
      "text/plain": [
       "       structure_type  floor  basement  dwelling_unit  structure_age\n",
       "50178               0      0         0              1              2\n",
       "50179               0      0         0              1              2\n",
       "50180               0      0         0              1              2\n",
       "50181               0      0         0              1              2\n",
       "50182               0      0         0              1              2"
      ]
     },
     "execution_count": 78,
     "metadata": {},
     "output_type": "execute_result"
    }
   ],
   "source": [
    "inputs_n = inputs.drop(['STRUCTURE TYPE', 'FLOOR', 'BASEMENT', 'DEWLLING UNIT', 'STRUCUTRE AGE'], axis=\"columns\")\n",
    "inputs_n.tail()"
   ]
  },
  {
   "cell_type": "code",
   "execution_count": 79,
   "id": "b815c58a",
   "metadata": {},
   "outputs": [],
   "source": [
    "#Processing Data for Decision Tree\n",
    "\n",
    "model = tree.DecisionTreeClassifier(criterion=\"entropy\", random_state=42, max_depth=6, min_samples_leaf=10)"
   ]
  },
  {
   "cell_type": "code",
   "execution_count": 80,
   "id": "c70098b3",
   "metadata": {},
   "outputs": [],
   "source": [
    "X_train, X_test, Y_train, Y_test = train_test_split(inputs_n, target, test_size=0.2, random_state=42)"
   ]
  },
  {
   "cell_type": "code",
   "execution_count": 81,
   "id": "cbf633fe",
   "metadata": {},
   "outputs": [
    {
     "data": {
      "text/html": [
       "<style>#sk-container-id-5 {color: black;background-color: white;}#sk-container-id-5 pre{padding: 0;}#sk-container-id-5 div.sk-toggleable {background-color: white;}#sk-container-id-5 label.sk-toggleable__label {cursor: pointer;display: block;width: 100%;margin-bottom: 0;padding: 0.3em;box-sizing: border-box;text-align: center;}#sk-container-id-5 label.sk-toggleable__label-arrow:before {content: \"▸\";float: left;margin-right: 0.25em;color: #696969;}#sk-container-id-5 label.sk-toggleable__label-arrow:hover:before {color: black;}#sk-container-id-5 div.sk-estimator:hover label.sk-toggleable__label-arrow:before {color: black;}#sk-container-id-5 div.sk-toggleable__content {max-height: 0;max-width: 0;overflow: hidden;text-align: left;background-color: #f0f8ff;}#sk-container-id-5 div.sk-toggleable__content pre {margin: 0.2em;color: black;border-radius: 0.25em;background-color: #f0f8ff;}#sk-container-id-5 input.sk-toggleable__control:checked~div.sk-toggleable__content {max-height: 200px;max-width: 100%;overflow: auto;}#sk-container-id-5 input.sk-toggleable__control:checked~label.sk-toggleable__label-arrow:before {content: \"▾\";}#sk-container-id-5 div.sk-estimator input.sk-toggleable__control:checked~label.sk-toggleable__label {background-color: #d4ebff;}#sk-container-id-5 div.sk-label input.sk-toggleable__control:checked~label.sk-toggleable__label {background-color: #d4ebff;}#sk-container-id-5 input.sk-hidden--visually {border: 0;clip: rect(1px 1px 1px 1px);clip: rect(1px, 1px, 1px, 1px);height: 1px;margin: -1px;overflow: hidden;padding: 0;position: absolute;width: 1px;}#sk-container-id-5 div.sk-estimator {font-family: monospace;background-color: #f0f8ff;border: 1px dotted black;border-radius: 0.25em;box-sizing: border-box;margin-bottom: 0.5em;}#sk-container-id-5 div.sk-estimator:hover {background-color: #d4ebff;}#sk-container-id-5 div.sk-parallel-item::after {content: \"\";width: 100%;border-bottom: 1px solid gray;flex-grow: 1;}#sk-container-id-5 div.sk-label:hover label.sk-toggleable__label {background-color: #d4ebff;}#sk-container-id-5 div.sk-serial::before {content: \"\";position: absolute;border-left: 1px solid gray;box-sizing: border-box;top: 0;bottom: 0;left: 50%;z-index: 0;}#sk-container-id-5 div.sk-serial {display: flex;flex-direction: column;align-items: center;background-color: white;padding-right: 0.2em;padding-left: 0.2em;position: relative;}#sk-container-id-5 div.sk-item {position: relative;z-index: 1;}#sk-container-id-5 div.sk-parallel {display: flex;align-items: stretch;justify-content: center;background-color: white;position: relative;}#sk-container-id-5 div.sk-item::before, #sk-container-id-5 div.sk-parallel-item::before {content: \"\";position: absolute;border-left: 1px solid gray;box-sizing: border-box;top: 0;bottom: 0;left: 50%;z-index: -1;}#sk-container-id-5 div.sk-parallel-item {display: flex;flex-direction: column;z-index: 1;position: relative;background-color: white;}#sk-container-id-5 div.sk-parallel-item:first-child::after {align-self: flex-end;width: 50%;}#sk-container-id-5 div.sk-parallel-item:last-child::after {align-self: flex-start;width: 50%;}#sk-container-id-5 div.sk-parallel-item:only-child::after {width: 0;}#sk-container-id-5 div.sk-dashed-wrapped {border: 1px dashed gray;margin: 0 0.4em 0.5em 0.4em;box-sizing: border-box;padding-bottom: 0.4em;background-color: white;}#sk-container-id-5 div.sk-label label {font-family: monospace;font-weight: bold;display: inline-block;line-height: 1.2em;}#sk-container-id-5 div.sk-label-container {text-align: center;}#sk-container-id-5 div.sk-container {/* jupyter's `normalize.less` sets `[hidden] { display: none; }` but bootstrap.min.css set `[hidden] { display: none !important; }` so we also need the `!important` here to be able to override the default hidden behavior on the sphinx rendered scikit-learn.org. See: https://github.com/scikit-learn/scikit-learn/issues/21755 */display: inline-block !important;position: relative;}#sk-container-id-5 div.sk-text-repr-fallback {display: none;}</style><div id=\"sk-container-id-5\" class=\"sk-top-container\"><div class=\"sk-text-repr-fallback\"><pre>DecisionTreeClassifier(criterion=&#x27;entropy&#x27;, max_depth=6, min_samples_leaf=10,\n",
       "                       random_state=42)</pre><b>In a Jupyter environment, please rerun this cell to show the HTML representation or trust the notebook. <br />On GitHub, the HTML representation is unable to render, please try loading this page with nbviewer.org.</b></div><div class=\"sk-container\" hidden><div class=\"sk-item\"><div class=\"sk-estimator sk-toggleable\"><input class=\"sk-toggleable__control sk-hidden--visually\" id=\"sk-estimator-id-5\" type=\"checkbox\" checked><label for=\"sk-estimator-id-5\" class=\"sk-toggleable__label sk-toggleable__label-arrow\">DecisionTreeClassifier</label><div class=\"sk-toggleable__content\"><pre>DecisionTreeClassifier(criterion=&#x27;entropy&#x27;, max_depth=6, min_samples_leaf=10,\n",
       "                       random_state=42)</pre></div></div></div></div></div>"
      ],
      "text/plain": [
       "DecisionTreeClassifier(criterion='entropy', max_depth=6, min_samples_leaf=10,\n",
       "                       random_state=42)"
      ]
     },
     "execution_count": 81,
     "metadata": {},
     "output_type": "execute_result"
    }
   ],
   "source": [
    "model.fit(inputs_n, target)"
   ]
  },
  {
   "cell_type": "code",
   "execution_count": 82,
   "id": "4d4644b4",
   "metadata": {},
   "outputs": [
    {
     "name": "stdout",
     "output_type": "stream",
     "text": [
      "Accuracy is  87.99593487834527 %\n"
     ]
    }
   ],
   "source": [
    "#Accuray of the Model\n",
    "\n",
    "print(\"Accuracy is \", model.score(inputs_n, target)*100, \"%\")"
   ]
  },
  {
   "cell_type": "code",
   "execution_count": 83,
   "id": "8f0b34e9",
   "metadata": {},
   "outputs": [
    {
     "name": "stderr",
     "output_type": "stream",
     "text": [
      "C:\\Users\\abhij\\anaconda3\\lib\\site-packages\\sklearn\\base.py:420: UserWarning: X does not have valid feature names, but DecisionTreeClassifier was fitted with feature names\n",
      "  warnings.warn(\n"
     ]
    },
    {
     "data": {
      "text/plain": [
       "array(['Mixed Use'], dtype=object)"
      ]
     },
     "execution_count": 83,
     "metadata": {},
     "output_type": "execute_result"
    }
   ],
   "source": [
    "#Prediction of Structure Use\n",
    "\n",
    "model.predict([[5, 4, 11, 1, 2]])"
   ]
  },
  {
   "cell_type": "code",
   "execution_count": 84,
   "id": "93ad2a3a",
   "metadata": {},
   "outputs": [
    {
     "name": "stdout",
     "output_type": "stream",
     "text": [
      "Values are Assigned to the Labels\n",
      "Values of Structure Type                     0\n",
      "0              Katcha\n",
      "1               Pucca\n",
      "2          Semi-Pucca\n",
      "3  Under Construction\n",
      "Values of Floor      0\n",
      "0    1\n",
      "1    2\n",
      "2    3\n",
      "3    4\n",
      "4    5\n",
      "5    6\n",
      "6    7\n",
      "7    8\n",
      "8    9\n",
      "9   10\n",
      "10  11\n",
      "11  12\n",
      "12  13\n",
      "13  14\n",
      "14  15\n",
      "15  16\n",
      "16  18\n",
      "Values of Basement    0\n",
      "0   \n",
      "1  1\n",
      "2  2\n",
      "Values of Dwelling Unit       0\n",
      "0      \n",
      "1     1\n",
      "2    10\n",
      "3    11\n",
      "4    12\n",
      "5    14\n",
      "6    15\n",
      "7    16\n",
      "8    18\n",
      "9   180\n",
      "10    2\n",
      "11   20\n",
      "12   21\n",
      "13   22\n",
      "14   24\n",
      "15   25\n",
      "16   26\n",
      "17   27\n",
      "18   28\n",
      "19    3\n",
      "20   30\n",
      "21   32\n",
      "22   33\n",
      "23   35\n",
      "24   36\n",
      "25   39\n",
      "26    4\n",
      "27   40\n",
      "28   42\n",
      "29   45\n",
      "30   48\n",
      "31    5\n",
      "32   50\n",
      "33   52\n",
      "34   54\n",
      "35   55\n",
      "36   56\n",
      "37    6\n",
      "38   60\n",
      "39   63\n",
      "40    7\n",
      "41   70\n",
      "42   75\n",
      "43   78\n",
      "44    8\n",
      "45    9\n",
      "46   90\n",
      "Values of Structure Age        0\n",
      "0       \n",
      "1   0-10\n",
      "2  11-20\n",
      "3  21-30\n",
      "4  31-40\n",
      "5  41-50\n",
      "6    50+\n"
     ]
    }
   ],
   "source": [
    "#Values are Assigned to the Labels\n",
    "print(\"Values are Assigned to the Labels\")\n",
    "print(\"Values of Structure Type\", pd.DataFrame(le_structure_type.classes_))\n",
    "print(\"Values of Floor\", pd.DataFrame(le_floor.classes_))\n",
    "print(\"Values of Basement\", pd.DataFrame(le_basement.classes_))\n",
    "print(\"Values of Dwelling Unit\", pd.DataFrame(le_dwelling_unit.classes_))\n",
    "print(\"Values of Structure Age\", pd.DataFrame(le_structure_age.classes_))"
   ]
  },
  {
   "cell_type": "code",
   "execution_count": 85,
   "id": "a6ada622",
   "metadata": {},
   "outputs": [
    {
     "name": "stderr",
     "output_type": "stream",
     "text": [
      "C:\\Users\\abhij\\anaconda3\\lib\\site-packages\\sklearn\\base.py:420: UserWarning: X does not have valid feature names, but DecisionTreeClassifier was fitted with feature names\n",
      "  warnings.warn(\n"
     ]
    },
    {
     "data": {
      "text/plain": [
       "array(['Institutional'], dtype=object)"
      ]
     },
     "execution_count": 85,
     "metadata": {},
     "output_type": "execute_result"
    }
   ],
   "source": [
    "#Prediction of Structure Use\n",
    "\n",
    "model.predict([[1, 4, 2, 0, 1]])"
   ]
  },
  {
   "cell_type": "code",
   "execution_count": null,
   "id": "4a642491",
   "metadata": {},
   "outputs": [],
   "source": []
  }
 ],
 "metadata": {
  "kernelspec": {
   "display_name": "Python 3 (ipykernel)",
   "language": "python",
   "name": "python3"
  },
  "language_info": {
   "codemirror_mode": {
    "name": "ipython",
    "version": 3
   },
   "file_extension": ".py",
   "mimetype": "text/x-python",
   "name": "python",
   "nbconvert_exporter": "python",
   "pygments_lexer": "ipython3",
   "version": "3.10.9"
  }
 },
 "nbformat": 4,
 "nbformat_minor": 5
}
